{
 "cells": [
  {
   "cell_type": "code",
   "execution_count": 79,
   "metadata": {},
   "outputs": [
    {
     "output_type": "execute_result",
     "data": {
      "text/plain": [
       "'\\n過去のセリーグ、パリーグのMVPの選手の打撃成績から、2019年のMVPが本当に坂本勇人選手なのか、検証していきます。\\n過去のMVP選手とそうでない選手の打撃成績をLogisticRegressionの機械学習モデルに学習させ、2019年のプロ野球の打者の成績をテストデータとして、2019年のMVP選手(とそうでない選手たち)を予測させます。\\n'"
      ]
     },
     "metadata": {},
     "execution_count": 79
    }
   ],
   "source": [
    "\"\"\"\n",
    "過去のセリーグ、パリーグのMVPの選手の打撃成績から、2019年のMVPが本当に坂本勇人選手なのか、検証していきます。\n",
    "過去のMVP選手とそうでない選手の打撃成績をLogisticRegressionの機械学習モデルに学習させ、2019年のプロ野球の打者の成績をテストデータとして、2019年のMVP選手(とそうでない選手たち)を予測させます。\n",
    "\"\"\""
   ]
  },
  {
   "cell_type": "code",
   "execution_count": 80,
   "metadata": {},
   "outputs": [],
   "source": [
    "import numpy as np\n",
    "import pandas as pd \n",
    "\n",
    "from sklearn.linear_model import LogisticRegression\n",
    "from sklearn.preprocessing import StandardScaler\n"
   ]
  },
  {
   "cell_type": "code",
   "execution_count": 81,
   "metadata": {},
   "outputs": [],
   "source": [
    "# CSVデータファイルをpandas.DataFrameの形式に\n",
    "dfs = [pd.read_csv('data/batter_' + str(yr) + '.csv') for yr in range(2009, 2020)]"
   ]
  },
  {
   "cell_type": "code",
   "execution_count": 82,
   "metadata": {},
   "outputs": [
    {
     "output_type": "execute_result",
     "data": {
      "text/plain": [
       "list"
      ]
     },
     "metadata": {},
     "execution_count": 82
    }
   ],
   "source": [
    "type(dfs)"
   ]
  },
  {
   "cell_type": "code",
   "execution_count": 83,
   "metadata": {},
   "outputs": [
    {
     "output_type": "execute_result",
     "data": {
      "text/plain": [
       "pandas.core.frame.DataFrame"
      ]
     },
     "metadata": {},
     "execution_count": 83
    }
   ],
   "source": [
    "type(dfs[0])"
   ]
  },
  {
   "cell_type": "code",
   "execution_count": 84,
   "metadata": {},
   "outputs": [
    {
     "output_type": "execute_result",
     "data": {
      "text/plain": [
       "0     False\n",
       "1     False\n",
       "2     False\n",
       "3     False\n",
       "4     False\n",
       "      ...  \n",
       "56    False\n",
       "57    False\n",
       "58    False\n",
       "59    False\n",
       "60    False\n",
       "Name: 試合, Length: 61, dtype: bool"
      ]
     },
     "metadata": {},
     "execution_count": 84
    }
   ],
   "source": [
    "np.isnan(dfs[0]['試合'])"
   ]
  },
  {
   "cell_type": "code",
   "execution_count": 85,
   "metadata": {},
   "outputs": [],
   "source": [
    "#セ・リーグ、パ・リーグの両MVPがどちらとも投手だった、2014年の行は削除し、分析したい2019年のデータも入れない。"
   ]
  },
  {
   "cell_type": "code",
   "execution_count": 86,
   "metadata": {},
   "outputs": [],
   "source": [
    "\"\"\"\n",
    "作成した pandas.DataFrame を用いて、訓練データを作成します。\n",
    "2009年から、2018年までのデータを結合させます。この際に、セ・リーグ、パ・リーグの両MVPがどちらとも投手受賞だった、2014年の行は削除し、テストデータとして用いる2019年のデータも外します。\n",
    "\"\"\"\n",
    "whole_year_array = np.concatenate((dfs[0], dfs[1], dfs[2], dfs[3], dfs[4], dfs[6], dfs[7], dfs[8], dfs[9]), axis = 0)"
   ]
  },
  {
   "cell_type": "code",
   "execution_count": 87,
   "metadata": {},
   "outputs": [
    {
     "output_type": "execute_result",
     "data": {
      "text/plain": [
       "array([['田中 賢介', '日本ハム', 144, ..., 17, 0, 0],\n",
       "       ['井端 弘和', '中日', 144, ..., 8, 13, 0],\n",
       "       ['中島 裕之', '西武', 144, ..., 0, 17, 0],\n",
       "       ...,\n",
       "       ['中島 卓也', '日本ハム', 132, ..., 22, 4, 0],\n",
       "       ['野間 峻祥', '広島', 126, ..., 4, 2, 0],\n",
       "       ['松山 竜平', '広島', 124, ..., 0, 10, 0]], dtype=object)"
      ]
     },
     "metadata": {},
     "execution_count": 87
    }
   ],
   "source": [
    "whole_year_array"
   ]
  },
  {
   "cell_type": "code",
   "execution_count": 88,
   "metadata": {},
   "outputs": [
    {
     "output_type": "execute_result",
     "data": {
      "text/plain": [
       "numpy.ndarray"
      ]
     },
     "metadata": {},
     "execution_count": 88
    }
   ],
   "source": [
    "type(whole_year_array)"
   ]
  },
  {
   "cell_type": "code",
   "execution_count": 89,
   "metadata": {},
   "outputs": [],
   "source": [
    "df_whole_year = pd.DataFrame(data = whole_year_array, columns = dfs[0].columns)"
   ]
  },
  {
   "cell_type": "code",
   "execution_count": 90,
   "metadata": {
    "scrolled": true
   },
   "outputs": [
    {
     "output_type": "execute_result",
     "data": {
      "text/plain": [
       "        選手名   チーム   試合  打席数   打数   安打 本塁打  打点  盗塁  四球  死球   三振  犠打 併殺打 MVP\n",
       "0     田中 賢介  日本ハム  144  680  575  163   3  49  31  79   5  105  17   0   0\n",
       "1     井端 弘和    中日  144  657  569  174   5  39  13  72   6   66   8  13   0\n",
       "2     中島 裕之    西武  144  648  560  173  22  92  20  75  10  113   0  17   0\n",
       "3     片岡 易之    西武  139  646  588  153  13  58  51  36   7   72  12   8   0\n",
       "4      栗山 巧    西武  140  643  569  152  12  57  18  53  10  106   8   9   0\n",
       "..      ...   ...  ...  ...  ...  ...  ..  ..  ..  ..  ..  ...  ..  ..  ..\n",
       "501  梅野 隆太郎    阪神  132  455  386  100   8  47   5  39   1   67  28   6   0\n",
       "502   島内 宏明    楽天  103  453  394  115  11  53  11  47   6   45   3  10   0\n",
       "503   中島 卓也  日本ハム  132  449  391  102   1  23  29  35   0   88  22   4   0\n",
       "504   野間 峻祥    広島  126  447  405  116   5  46  17  30   6   69   4   2   0\n",
       "505   松山 竜平    広島  124  446  397  120  12  74   2  42   2   46   0  10   0\n",
       "\n",
       "[506 rows x 15 columns]"
      ],
      "text/html": "<div>\n<style scoped>\n    .dataframe tbody tr th:only-of-type {\n        vertical-align: middle;\n    }\n\n    .dataframe tbody tr th {\n        vertical-align: top;\n    }\n\n    .dataframe thead th {\n        text-align: right;\n    }\n</style>\n<table border=\"1\" class=\"dataframe\">\n  <thead>\n    <tr style=\"text-align: right;\">\n      <th></th>\n      <th>選手名</th>\n      <th>チーム</th>\n      <th>試合</th>\n      <th>打席数</th>\n      <th>打数</th>\n      <th>安打</th>\n      <th>本塁打</th>\n      <th>打点</th>\n      <th>盗塁</th>\n      <th>四球</th>\n      <th>死球</th>\n      <th>三振</th>\n      <th>犠打</th>\n      <th>併殺打</th>\n      <th>MVP</th>\n    </tr>\n  </thead>\n  <tbody>\n    <tr>\n      <th>0</th>\n      <td>田中 賢介</td>\n      <td>日本ハム</td>\n      <td>144</td>\n      <td>680</td>\n      <td>575</td>\n      <td>163</td>\n      <td>3</td>\n      <td>49</td>\n      <td>31</td>\n      <td>79</td>\n      <td>5</td>\n      <td>105</td>\n      <td>17</td>\n      <td>0</td>\n      <td>0</td>\n    </tr>\n    <tr>\n      <th>1</th>\n      <td>井端 弘和</td>\n      <td>中日</td>\n      <td>144</td>\n      <td>657</td>\n      <td>569</td>\n      <td>174</td>\n      <td>5</td>\n      <td>39</td>\n      <td>13</td>\n      <td>72</td>\n      <td>6</td>\n      <td>66</td>\n      <td>8</td>\n      <td>13</td>\n      <td>0</td>\n    </tr>\n    <tr>\n      <th>2</th>\n      <td>中島 裕之</td>\n      <td>西武</td>\n      <td>144</td>\n      <td>648</td>\n      <td>560</td>\n      <td>173</td>\n      <td>22</td>\n      <td>92</td>\n      <td>20</td>\n      <td>75</td>\n      <td>10</td>\n      <td>113</td>\n      <td>0</td>\n      <td>17</td>\n      <td>0</td>\n    </tr>\n    <tr>\n      <th>3</th>\n      <td>片岡 易之</td>\n      <td>西武</td>\n      <td>139</td>\n      <td>646</td>\n      <td>588</td>\n      <td>153</td>\n      <td>13</td>\n      <td>58</td>\n      <td>51</td>\n      <td>36</td>\n      <td>7</td>\n      <td>72</td>\n      <td>12</td>\n      <td>8</td>\n      <td>0</td>\n    </tr>\n    <tr>\n      <th>4</th>\n      <td>栗山 巧</td>\n      <td>西武</td>\n      <td>140</td>\n      <td>643</td>\n      <td>569</td>\n      <td>152</td>\n      <td>12</td>\n      <td>57</td>\n      <td>18</td>\n      <td>53</td>\n      <td>10</td>\n      <td>106</td>\n      <td>8</td>\n      <td>9</td>\n      <td>0</td>\n    </tr>\n    <tr>\n      <th>...</th>\n      <td>...</td>\n      <td>...</td>\n      <td>...</td>\n      <td>...</td>\n      <td>...</td>\n      <td>...</td>\n      <td>...</td>\n      <td>...</td>\n      <td>...</td>\n      <td>...</td>\n      <td>...</td>\n      <td>...</td>\n      <td>...</td>\n      <td>...</td>\n      <td>...</td>\n    </tr>\n    <tr>\n      <th>501</th>\n      <td>梅野 隆太郎</td>\n      <td>阪神</td>\n      <td>132</td>\n      <td>455</td>\n      <td>386</td>\n      <td>100</td>\n      <td>8</td>\n      <td>47</td>\n      <td>5</td>\n      <td>39</td>\n      <td>1</td>\n      <td>67</td>\n      <td>28</td>\n      <td>6</td>\n      <td>0</td>\n    </tr>\n    <tr>\n      <th>502</th>\n      <td>島内 宏明</td>\n      <td>楽天</td>\n      <td>103</td>\n      <td>453</td>\n      <td>394</td>\n      <td>115</td>\n      <td>11</td>\n      <td>53</td>\n      <td>11</td>\n      <td>47</td>\n      <td>6</td>\n      <td>45</td>\n      <td>3</td>\n      <td>10</td>\n      <td>0</td>\n    </tr>\n    <tr>\n      <th>503</th>\n      <td>中島 卓也</td>\n      <td>日本ハム</td>\n      <td>132</td>\n      <td>449</td>\n      <td>391</td>\n      <td>102</td>\n      <td>1</td>\n      <td>23</td>\n      <td>29</td>\n      <td>35</td>\n      <td>0</td>\n      <td>88</td>\n      <td>22</td>\n      <td>4</td>\n      <td>0</td>\n    </tr>\n    <tr>\n      <th>504</th>\n      <td>野間 峻祥</td>\n      <td>広島</td>\n      <td>126</td>\n      <td>447</td>\n      <td>405</td>\n      <td>116</td>\n      <td>5</td>\n      <td>46</td>\n      <td>17</td>\n      <td>30</td>\n      <td>6</td>\n      <td>69</td>\n      <td>4</td>\n      <td>2</td>\n      <td>0</td>\n    </tr>\n    <tr>\n      <th>505</th>\n      <td>松山 竜平</td>\n      <td>広島</td>\n      <td>124</td>\n      <td>446</td>\n      <td>397</td>\n      <td>120</td>\n      <td>12</td>\n      <td>74</td>\n      <td>2</td>\n      <td>42</td>\n      <td>2</td>\n      <td>46</td>\n      <td>0</td>\n      <td>10</td>\n      <td>0</td>\n    </tr>\n  </tbody>\n</table>\n<p>506 rows × 15 columns</p>\n</div>"
     },
     "metadata": {},
     "execution_count": 90
    }
   ],
   "source": [
    "df_whole_year"
   ]
  },
  {
   "cell_type": "code",
   "execution_count": 91,
   "metadata": {},
   "outputs": [
    {
     "output_type": "execute_result",
     "data": {
      "text/plain": [
       "Index(['選手名', 'チーム', '試合', '打席数', '打数', '安打', '本塁打', '打点', '盗塁', '四球', '死球',\n",
       "       '三振', '犠打', '併殺打', 'MVP'],\n",
       "      dtype='object')"
      ]
     },
     "metadata": {},
     "execution_count": 91
    }
   ],
   "source": [
    "df_whole_year.columns"
   ]
  },
  {
   "cell_type": "code",
   "execution_count": 92,
   "metadata": {},
   "outputs": [],
   "source": [
    "\"\"\"\n",
    "先ほど作成したpandasのDataFrameから、選手名とチーム、MVPの列を外し（indexで選手の識別可能）それを訓練データ X_train とし、 'MVP'の列を正解ラベルとして Y_trainに格納した。\n",
    "\n",
    "テストデータは2019年のデータであるため、訓練データと同様に、dfs[10]の選手名とチーム、MVPの列を外したデータをテストデータ X_test 、 MVPの列を正解ラベルとして、Y_test に格納した。\n",
    "\"\"\"\n",
    "\n",
    "X_train = df_whole_year[['試合', '打席数', '打数', '安打', '本塁打', '打点', '盗塁', '四球', '死球',\n",
    "       '三振', '犠打', '併殺打']]\n",
    "\n",
    "Y_train = df_whole_year[['MVP']]\n",
    "Y_train = Y_train.astype('int')\n",
    "\n",
    "X_test = dfs[10][['試合', '打席数', '打数', '安打', '本塁打', '打点', '盗塁', '四球', '死球',\n",
    "       '三振', '犠打', '併殺打']]\n",
    "\n",
    "Y_test = dfs[10][['MVP']]\n",
    "Y_test = Y_test.astype('int')"
   ]
  },
  {
   "cell_type": "code",
   "execution_count": 93,
   "metadata": {
    "scrolled": false
   },
   "outputs": [
    {
     "output_type": "execute_result",
     "data": {
      "text/plain": [
       "LogisticRegression()"
      ]
     },
     "metadata": {},
     "execution_count": 93
    }
   ],
   "source": [
    "# ロジスティック回帰クラスの初期化(インスタンス生成)と学習\n",
    "model = LogisticRegression()\n",
    "model.fit(X_train, Y_train)"
   ]
  },
  {
   "cell_type": "code",
   "execution_count": 94,
   "metadata": {
    "scrolled": true
   },
   "outputs": [
    {
     "output_type": "execute_result",
     "data": {
      "text/plain": [
       "array([0, 0, 0, 0, 0, 0, 0, 0, 0, 0, 0, 0, 0, 0, 1, 0, 0, 0, 0, 0, 0, 0,\n",
       "       0, 0, 0, 0, 0, 0, 0, 0, 0, 0, 0, 0, 0, 0, 0, 0, 0, 0, 0, 0, 0, 0,\n",
       "       0, 0, 0, 0, 0, 0, 0, 0, 0, 0, 0, 0, 0, 0, 0, 0])"
      ]
     },
     "metadata": {},
     "execution_count": 94
    }
   ],
   "source": [
    "# 予測の結果,mvpは鈴木誠也選手であることがわかりました。\n",
    "model.predict(X_test)"
   ]
  },
  {
   "cell_type": "code",
   "execution_count": 95,
   "metadata": {
    "scrolled": true
   },
   "outputs": [
    {
     "output_type": "stream",
     "name": "stdout",
     "text": [
      "正解率(train):0.980\n"
     ]
    }
   ],
   "source": [
    "# 予測の正解率\n",
    "print('正解率(train):{:.3f}'.format(model.score(X_train, Y_train)))"
   ]
  },
  {
   "cell_type": "code",
   "execution_count": 96,
   "metadata": {},
   "outputs": [
    {
     "output_type": "stream",
     "name": "stdout",
     "text": [
      "正解率(test):0.950\n"
     ]
    }
   ],
   "source": [
    "# 予測の正解率\n",
    "print('正解率(test):{:.3f}'.format(model.score(X_test, Y_test)))"
   ]
  },
  {
   "cell_type": "code",
   "execution_count": 97,
   "metadata": {
    "scrolled": true
   },
   "outputs": [
    {
     "output_type": "execute_result",
     "data": {
      "text/plain": [
       "array([0, 0, 0, 0, 0, 0, 0, 0, 0, 0, 0, 0, 0, 0, 0, 0, 0, 0, 0, 0, 0, 0,\n",
       "       0, 0, 0, 0, 0, 0, 0, 0, 0, 0, 0, 0, 0, 0, 0, 0, 0, 0, 0, 0, 0, 0,\n",
       "       0, 0, 0, 0, 0, 0, 0, 0, 0, 0, 0, 0, 0, 0, 0, 0, 0, 0, 0, 0, 0, 0,\n",
       "       0, 0, 0, 0, 0, 0, 0, 0, 0, 0, 0, 0, 0, 0, 0, 0, 0, 0, 0, 0, 0, 0,\n",
       "       0, 0, 0, 0, 0, 0, 0, 0, 0, 0, 0, 0, 0, 0, 0, 0, 0, 0, 0, 0, 0, 0,\n",
       "       0, 0, 0, 0, 0, 0, 0, 0, 0, 0, 0, 0, 0, 0, 0, 0, 0, 0, 0, 0, 0, 0,\n",
       "       0, 0, 0, 0, 0, 0, 0, 0, 0, 0, 0, 0, 0, 0, 0, 0, 0, 0, 0, 0, 0, 0,\n",
       "       0, 0, 0, 0, 0, 0, 0, 0, 0, 0, 0, 0, 0, 0, 0, 0, 0, 0, 0, 0, 0, 0,\n",
       "       0, 0, 0, 0, 0, 0, 0, 0, 0, 0, 0, 0, 0, 0, 0, 0, 0, 0, 0, 0, 1, 0,\n",
       "       0, 0, 0, 0, 0, 0, 0, 0, 0, 0, 0, 0, 0, 0, 0, 0, 0, 0, 0, 0, 0, 0,\n",
       "       0, 0, 0, 0, 0, 0, 0, 0, 0, 0, 0, 0, 0, 0, 0, 0, 0, 0, 0, 0, 0, 0,\n",
       "       0, 0, 0, 0, 0, 0, 0, 0, 0, 0, 0, 0, 1, 0, 0, 0, 0, 0, 1, 0, 0, 0,\n",
       "       0, 0, 0, 0, 0, 0, 0, 0, 0, 0, 0, 0, 0, 0, 0, 0, 0, 0, 0, 0, 0, 0,\n",
       "       0, 0, 0, 0, 0, 0, 0, 1, 0, 0, 0, 0, 0, 0, 0, 0, 0, 0, 0, 0, 0, 0,\n",
       "       0, 0, 0, 0, 0, 0, 0, 0, 0, 0, 0, 0, 0, 0, 0, 0, 0, 0, 0, 0, 0, 0,\n",
       "       0, 0, 0, 0, 0, 0, 0, 0, 0, 0, 0, 0, 0, 0, 0, 0, 0, 0, 0, 0, 0, 0,\n",
       "       0, 0, 0, 0, 0, 0, 0, 0, 0, 0, 0, 0, 0, 1, 0, 0, 0, 0, 0, 0, 0, 0,\n",
       "       0, 0, 0, 0, 0, 0, 0, 0, 0, 0, 0, 0, 0, 0, 0, 0, 0, 0, 0, 0, 0, 0,\n",
       "       0, 0, 0, 0, 0, 0, 0, 0, 0, 0, 0, 0, 0, 0, 0, 0, 0, 0, 0, 0, 0, 0,\n",
       "       0, 0, 0, 0, 0, 0, 0, 0, 0, 0, 0, 0, 0, 0, 0, 0, 0, 0, 0, 0, 0, 0,\n",
       "       0, 0, 0, 0, 0, 0, 0, 0, 0, 0, 0, 0, 0, 0, 0, 0, 0, 0, 0, 0, 0, 0,\n",
       "       0, 0, 0, 0, 0, 0, 0, 0, 0, 0, 0, 0, 0, 0, 0, 0, 0, 0, 0, 0, 0, 0,\n",
       "       0, 0, 0, 0, 0, 0, 0, 0, 0, 0, 0, 0, 0, 0, 0, 0, 0, 0, 0, 0, 0, 0])"
      ]
     },
     "metadata": {},
     "execution_count": 97
    }
   ],
   "source": [
    "model.predict(X_train)"
   ]
  },
  {
   "cell_type": "code",
   "execution_count": 98,
   "metadata": {},
   "outputs": [
    {
     "output_type": "execute_result",
     "data": {
      "text/plain": [
       "LogisticRegression()"
      ]
     },
     "metadata": {},
     "execution_count": 98
    }
   ],
   "source": [
    "# スケーリングによる予測精度の向上を期待する\n",
    "# 標準化処理 \n",
    "sc = StandardScaler()\n",
    "sc.fit(X_train)\n",
    "X_train_std = sc.transform(X_train)\n",
    "X_test_std = sc.transform(X_test)\n",
    "\n",
    "model = LogisticRegression()\n",
    "model.fit(X_train_std, Y_train)\n"
   ]
  },
  {
   "cell_type": "code",
   "execution_count": 99,
   "metadata": {},
   "outputs": [
    {
     "output_type": "execute_result",
     "data": {
      "text/plain": [
       "array([0, 0, 0, 0, 0, 0, 0, 0, 0, 0, 0, 0, 0, 0, 1, 0, 0, 0, 0, 0, 0, 0,\n",
       "       0, 0, 0, 0, 0, 0, 0, 0, 0, 0, 0, 0, 0, 0, 0, 0, 0, 0, 0, 0, 0, 0,\n",
       "       0, 0, 0, 0, 0, 0, 0, 0, 0, 0, 0, 0, 0, 0, 0, 0])"
      ]
     },
     "metadata": {},
     "execution_count": 99
    }
   ],
   "source": [
    "model.predict(X_test_std)"
   ]
  },
  {
   "cell_type": "code",
   "execution_count": 100,
   "metadata": {},
   "outputs": [
    {
     "output_type": "execute_result",
     "data": {
      "text/plain": [
       "0.9782608695652174"
      ]
     },
     "metadata": {},
     "execution_count": 100
    }
   ],
   "source": [
    "model.score(X_train_std, Y_train)"
   ]
  },
  {
   "cell_type": "code",
   "execution_count": null,
   "metadata": {},
   "outputs": [],
   "source": []
  },
  {
   "cell_type": "code",
   "execution_count": 101,
   "metadata": {},
   "outputs": [
    {
     "output_type": "execute_result",
     "data": {
      "text/plain": [
       "0.95"
      ]
     },
     "metadata": {},
     "execution_count": 101
    }
   ],
   "source": [
    "# スケーリングによって、正答率は変わらず、MVPも鈴木誠也選手で変わりませんでした。\n",
    "model.score(X_test_std, Y_test)"
   ]
  },
  {
   "cell_type": "code",
   "execution_count": 102,
   "metadata": {},
   "outputs": [
    {
     "output_type": "execute_result",
     "data": {
      "text/plain": [
       "      選手名 チーム   試合  打席数   打数   安打  本塁打  打点  盗塁   四球  死球  三振  犠打  併殺打  MVP\n",
       "14  鈴木 誠也  広島  140  612  499  167   28  87  25  103   7  81   0    3    0"
      ],
      "text/html": "<div>\n<style scoped>\n    .dataframe tbody tr th:only-of-type {\n        vertical-align: middle;\n    }\n\n    .dataframe tbody tr th {\n        vertical-align: top;\n    }\n\n    .dataframe thead th {\n        text-align: right;\n    }\n</style>\n<table border=\"1\" class=\"dataframe\">\n  <thead>\n    <tr style=\"text-align: right;\">\n      <th></th>\n      <th>選手名</th>\n      <th>チーム</th>\n      <th>試合</th>\n      <th>打席数</th>\n      <th>打数</th>\n      <th>安打</th>\n      <th>本塁打</th>\n      <th>打点</th>\n      <th>盗塁</th>\n      <th>四球</th>\n      <th>死球</th>\n      <th>三振</th>\n      <th>犠打</th>\n      <th>併殺打</th>\n      <th>MVP</th>\n    </tr>\n  </thead>\n  <tbody>\n    <tr>\n      <th>14</th>\n      <td>鈴木 誠也</td>\n      <td>広島</td>\n      <td>140</td>\n      <td>612</td>\n      <td>499</td>\n      <td>167</td>\n      <td>28</td>\n      <td>87</td>\n      <td>25</td>\n      <td>103</td>\n      <td>7</td>\n      <td>81</td>\n      <td>0</td>\n      <td>3</td>\n      <td>0</td>\n    </tr>\n  </tbody>\n</table>\n</div>"
     },
     "metadata": {},
     "execution_count": 102
    }
   ],
   "source": [
    "dfs[10][14:15]"
   ]
  }
 ],
 "metadata": {
  "kernelspec": {
   "display_name": "Python 3",
   "language": "python",
   "name": "python3"
  },
  "language_info": {
   "codemirror_mode": {
    "name": "ipython",
    "version": 3
   },
   "file_extension": ".py",
   "mimetype": "text/x-python",
   "name": "python",
   "nbconvert_exporter": "python",
   "pygments_lexer": "ipython3",
   "version": "3.8.2-final"
  }
 },
 "nbformat": 4,
 "nbformat_minor": 4
}